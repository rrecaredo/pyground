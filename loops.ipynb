{
 "cells": [
  {
   "cell_type": "markdown",
   "metadata": {},
   "source": [
    "# Loops"
   ]
  },
  {
   "cell_type": "code",
   "execution_count": 2,
   "metadata": {},
   "outputs": [],
   "source": [
    "my_list = [1, 6, 11, 56, 21]"
   ]
  },
  {
   "cell_type": "markdown",
   "metadata": {},
   "source": [
    "## For"
   ]
  },
  {
   "cell_type": "code",
   "execution_count": 3,
   "metadata": {},
   "outputs": [
    {
     "name": "stdout",
     "output_type": "stream",
     "text": [
      "3\n"
     ]
    }
   ],
   "source": [
    "count_greater = 0\n",
    "\n",
    "# Iterator traverses to the last index of the list\n",
    "\n",
    "for num in my_list:\n",
    "    if num > 10:\n",
    "        count_greater += 1\n",
    "\n",
    "print(count_greater)"
   ]
  },
  {
   "cell_type": "markdown",
   "metadata": {},
   "source": [
    "### Nested fors"
   ]
  },
  {
   "cell_type": "code",
   "execution_count": 4,
   "metadata": {},
   "outputs": [
    {
     "name": "stdout",
     "output_type": "stream",
     "text": [
      "23 27\n"
     ]
    }
   ],
   "source": [
    "n = 50\n",
    "num_list = [10, 25, 4, 23, 6, 18, 27, 47]\n",
    "found = False  # This bool will become true once a pair is found\n",
    "\n",
    "for n1 in num_list:\n",
    "    for n2 in num_list:\n",
    "        if n1 != n2:\n",
    "            if n1 + n2 == n:\n",
    "                found = True  # Set found to True\n",
    "                break  # Break inner loop if a pair is found\n",
    "    if found:\n",
    "        print(n1, n2)  # Print the pair\n",
    "        break  # Break outer loop if a pair is found"
   ]
  }
 ],
 "metadata": {
  "kernelspec": {
   "display_name": "Python 3",
   "language": "python",
   "name": "python3"
  },
  "language_info": {
   "codemirror_mode": {
    "name": "ipython",
    "version": 3
   },
   "file_extension": ".py",
   "mimetype": "text/x-python",
   "name": "python",
   "nbconvert_exporter": "python",
   "pygments_lexer": "ipython3",
   "version": "3.11.5"
  },
  "orig_nbformat": 4
 },
 "nbformat": 4,
 "nbformat_minor": 2
}
