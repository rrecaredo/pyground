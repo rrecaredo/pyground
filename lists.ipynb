{
 "cells": [
  {
   "cell_type": "markdown",
   "metadata": {},
   "source": [
    "# Lists"
   ]
  },
  {
   "cell_type": "markdown",
   "metadata": {},
   "source": [
    "### Simple list\n",
    "\n",
    "Lists can contain elements of any type and these can be mixed"
   ]
  },
  {
   "cell_type": "code",
   "execution_count": null,
   "metadata": {},
   "outputs": [],
   "source": [
    "my_list = [1, 2.5, \"A string\", True]\n",
    "\n",
    "print(my_list)"
   ]
  },
  {
   "cell_type": "markdown",
   "metadata": {},
   "source": [
    "#### Size of the list"
   ]
  },
  {
   "cell_type": "code",
   "execution_count": null,
   "metadata": {},
   "outputs": [],
   "source": [
    "print(len(my_list))"
   ]
  },
  {
   "cell_type": "markdown",
   "metadata": {},
   "source": [
    "### Convert a sequence of numbers into a list"
   ]
  },
  {
   "cell_type": "code",
   "execution_count": null,
   "metadata": {},
   "outputs": [],
   "source": [
    "num_seq = range(0, 10) # A sequence from 0 to 9\n",
    "num_list = list(num_seq)\n",
    "\n",
    "print(num_list)"
   ]
  },
  {
   "cell_type": "markdown",
   "metadata": {},
   "source": [
    "A sequence also can be created with number increments"
   ]
  },
  {
   "cell_type": "code",
   "execution_count": null,
   "metadata": {},
   "outputs": [],
   "source": [
    "num_seq = range(3, 20, 3)  # A sequence from 3 to 19 with a step of 3\n",
    "\n",
    "print(list(num_seq))"
   ]
  },
  {
   "cell_type": "markdown",
   "metadata": {},
   "source": [
    "### Nested lists\n",
    "\n",
    "Lists can be of nth dimentions"
   ]
  },
  {
   "cell_type": "code",
   "execution_count": null,
   "metadata": {},
   "outputs": [],
   "source": [
    "world_cup_winners = [\n",
    "    [2006, \"Italy\"],\n",
    "    [2010, \"Spain\"],\n",
    "    [2014, \"Germany\"],\n",
    "    [2018, \"France\"],\n",
    "]\n",
    "\n",
    "print(world_cup_winners)"
   ]
  },
  {
   "cell_type": "markdown",
   "metadata": {},
   "source": [
    "### Merging lists\n",
    "\n",
    "Many lists can be concatenated using the operator +"
   ]
  },
  {
   "cell_type": "code",
   "execution_count": null,
   "metadata": {},
   "outputs": [],
   "source": [
    "part_A = [1, 2, 3, 4, 5]\n",
    "part_B = [6, 7, 8, 9, 10]\n",
    "\n",
    "merged_list = part_A + part_B\n",
    "\n",
    "print(merged_list)"
   ]
  },
  {
   "cell_type": "markdown",
   "metadata": {},
   "source": [
    "#### In-place merging\n",
    "\n",
    "extend method can be used to add elements to an existing list. Effectively, it mutates the source list"
   ]
  },
  {
   "cell_type": "code",
   "execution_count": null,
   "metadata": {},
   "outputs": [],
   "source": [
    "part_A = [1, 2, 3, 4, 5]\n",
    "part_B = [6, 7, 8, 9, 10]\n",
    "\n",
    "part_A.extend(part_B)\n",
    "\n",
    "print(part_A)"
   ]
  },
  {
   "cell_type": "markdown",
   "metadata": {},
   "source": [
    "### Appending an element at the end of the list (push in JS)"
   ]
  },
  {
   "cell_type": "code",
   "execution_count": null,
   "metadata": {},
   "outputs": [],
   "source": [
    "num_list = []\n",
    "\n",
    "num_list.append(1)\n",
    "num_list.append(2)\n",
    "num_list.append(3)\n",
    "\n",
    "print(num_list)\n"
   ]
  },
  {
   "cell_type": "markdown",
   "metadata": {},
   "source": [
    "### Inserting elements in specific position of a list\n",
    "\n",
    "`insert` is similar to JS `splice` method but more concise as it only has one responsibilitty as opposed to `splice` which can be used for other use cases like replacing elements or removing elements from the array."
   ]
  },
  {
   "cell_type": "code",
   "execution_count": null,
   "metadata": {},
   "outputs": [],
   "source": [
    "num_list = [1, 2, 3, 5, 6]\n",
    "\n",
    "num_list.insert(3, 4)  # Inserting 4 at the 3rd index. 5 and 6 shifted ahead\n",
    "num_list.insert(11, 7) # Inserting 7 at the 11th index. Because the list has less than 11 indices, 7 will be inserted at the end\n",
    "\n",
    "print(num_list)"
   ]
  },
  {
   "cell_type": "markdown",
   "metadata": {},
   "source": [
    "### Replacing elements inside a list at given position\n",
    "\n",
    "Python does not have a dedicated method for replacing in-place elements of a list.\n",
    "However, this can be done easily with the help of list slicing"
   ]
  },
  {
   "cell_type": "code",
   "execution_count": null,
   "metadata": {},
   "outputs": [],
   "source": [
    "my_list = [1, 2, 3, 4, 5]\n",
    "\n",
    "replacement = [6, 7, 8]\n",
    "start_index = 1\n",
    "end_index = 3\n",
    "\n",
    "# Replace elements from index 1 to 3 (inclusive) with new elements\n",
    "my_list[start_index:end_index + 1] = replacement\n",
    "\n",
    "print(my_list)"
   ]
  },
  {
   "cell_type": "markdown",
   "metadata": {},
   "source": [
    "### Extract elements from a list using pop"
   ]
  },
  {
   "cell_type": "markdown",
   "metadata": {},
   "source": [
    "#### Pluck the last element "
   ]
  },
  {
   "cell_type": "code",
   "execution_count": null,
   "metadata": {},
   "outputs": [],
   "source": [
    "houses = [\"Gryffindor\", \"Hufflepuff\", \"Ravenclaw\", \"Slytherin\"]\n",
    "\n",
    "last_house = houses.pop()  # Removes and returns the last element\n",
    "\n",
    "print(last_house)\n",
    "print(houses)"
   ]
  },
  {
   "cell_type": "markdown",
   "metadata": {},
   "source": [
    "#### Pluck element at specific position"
   ]
  },
  {
   "cell_type": "code",
   "execution_count": null,
   "metadata": {},
   "outputs": [],
   "source": [
    "houses = [\"Gryffindor\", \"Hufflepuff\", \"Ravenclaw\", \"Slytherin\"]\n",
    "\n",
    "hufflepuff = houses.pop(1) # Removes and returns the element at index 1\n",
    "\n",
    "print(hufflepuff)\n",
    "print(houses)"
   ]
  },
  {
   "cell_type": "markdown",
   "metadata": {},
   "source": [
    "### Remove element\n",
    "\n",
    "remove removes the first occourence of the element we are trying to remove. Python does not have a removeAll or alike function."
   ]
  },
  {
   "cell_type": "code",
   "execution_count": null,
   "metadata": {},
   "outputs": [],
   "source": [
    "houses = [\"Gryffindor\", \"Hufflepuff\", \"Ravenclaw\", \"Slytherin\", \"Ravenclaw\"]\n",
    "\n",
    "houses.remove(\"Ravenclaw\")\n",
    "\n",
    "print(houses)"
   ]
  },
  {
   "cell_type": "markdown",
   "metadata": {},
   "source": [
    "Remove also works with nested lists"
   ]
  },
  {
   "cell_type": "code",
   "execution_count": null,
   "metadata": {},
   "outputs": [],
   "source": [
    "populations = [[\"Winterfell\", 10000], [\"King's Landing\", 50000], [\"Iron Islands\", 5000]]\n",
    "\n",
    "populations.remove([\"King's Landing\", 50000])\n",
    "\n",
    "print(populations)"
   ]
  },
  {
   "cell_type": "markdown",
   "metadata": {},
   "source": [
    "### Remove all occourences of an element\n",
    "\n",
    "If we wanted to remove all elements mathing ours, then we would need to use a list comprehension for this"
   ]
  },
  {
   "cell_type": "code",
   "execution_count": null,
   "metadata": {},
   "outputs": [],
   "source": [
    "my_list = [1, 2, 3, 2, 4, 2, 5]\n",
    "element_to_remove = 2\n",
    "\n",
    "my_list = [x for x in my_list if x != element_to_remove]\n",
    "\n",
    "print(my_list)"
   ]
  },
  {
   "cell_type": "markdown",
   "metadata": {},
   "source": [
    "### Finding the index of al element within a list"
   ]
  },
  {
   "cell_type": "code",
   "execution_count": null,
   "metadata": {},
   "outputs": [],
   "source": [
    "cities = [\"London\", \"Paris\", \"Los Angeles\", \"Beirut\"]\n",
    "\n",
    "print(cities.index(\"Los Angeles\"))  # It is at the 2nd index"
   ]
  },
  {
   "cell_type": "markdown",
   "metadata": {},
   "source": [
    "### Finding if an element exists in a list"
   ]
  },
  {
   "cell_type": "code",
   "execution_count": null,
   "metadata": {},
   "outputs": [],
   "source": [
    "cities = [\"London\", \"Paris\", \"Los Angeles\", \"Beirut\"]\n",
    "\n",
    "print(\"London\" in cities)\n",
    "print(\"Moscow\" not in cities)"
   ]
  },
  {
   "cell_type": "markdown",
   "metadata": {},
   "source": [
    "### Sorting a list"
   ]
  },
  {
   "cell_type": "code",
   "execution_count": null,
   "metadata": {},
   "outputs": [],
   "source": [
    "num_list = [20, 40, 10, 50, 30, 100, 5]\n",
    "num_list.sort()\n",
    "\n",
    "print(num_list)"
   ]
  },
  {
   "cell_type": "markdown",
   "metadata": {},
   "source": [
    "### Counting the number of occourences of a given element"
   ]
  },
  {
   "cell_type": "code",
   "execution_count": 27,
   "metadata": {},
   "outputs": [
    {
     "name": "stdout",
     "output_type": "stream",
     "text": [
      "2\n"
     ]
    }
   ],
   "source": [
    "cities = [\"London\", \"Paris\", \"Los Angeles\", \"Beirut\", \"London\"]\n",
    "\n",
    "print(cities.count(\"London\"))"
   ]
  },
  {
   "cell_type": "markdown",
   "metadata": {},
   "source": [
    "#### Counting the number of occourences that match a condition\n",
    "\n",
    "Although python has functions like `filter`, `map`, `reduce`, they are not as commonly used as in other languages like JavaScript. In python world, in most cases, the standard is to use list comprehensions to achieve similar tasks as it is considered easier to read and more expresive.\n",
    "\n",
    "_@see comprehension notebook for more examples about list comprehensions_"
   ]
  },
  {
   "cell_type": "code",
   "execution_count": null,
   "metadata": {},
   "outputs": [],
   "source": [
    "numbers = [1, 2, 3, 4, 5, 6, 7, 8, 9]\n",
    "\n",
    "even_numbers = [number for number in numbers if number % 2 == 0]\n",
    "\n",
    "even_count = len(even_numbers)"
   ]
  },
  {
   "cell_type": "markdown",
   "metadata": {},
   "source": [
    "##### Using filter\n",
    "\n",
    "As mentioned above, filter is not commonly used for these use cases, list comprehensions are considered more pytonic and are also faster."
   ]
  },
  {
   "cell_type": "code",
   "execution_count": 28,
   "metadata": {},
   "outputs": [
    {
     "name": "stdout",
     "output_type": "stream",
     "text": [
      "Number of even numbers: 4\n"
     ]
    }
   ],
   "source": [
    "numbers = [1, 2, 3, 4, 5, 6, 7, 8, 9]\n",
    "\n",
    "# Use filter() with a lambda function to filter even numbers\n",
    "filtered_numbers = filter(lambda x: x % 2 == 0, numbers)\n",
    "\n",
    "# Convert the filtered iterator to a list and count the elements\n",
    "even_count = len(list(filtered_numbers))\n",
    "\n",
    "print(\"Number of even numbers:\", even_count)"
   ]
  },
  {
   "cell_type": "markdown",
   "metadata": {},
   "source": [
    "## Slicing"
   ]
  },
  {
   "cell_type": "code",
   "execution_count": null,
   "metadata": {},
   "outputs": [],
   "source": [
    "num_list = [1, 2, 3, 4, 5, 6, 7, 8]\n",
    "\n",
    "print(num_list[2:5]) # Starts at index 2 and ends at index 4 (5 - 1)\n",
    "\n",
    "print(num_list[0::2]) # Starts at index 0 and ends at the last index with a step of 2"
   ]
  },
  {
   "cell_type": "markdown",
   "metadata": {},
   "source": [
    "### Looping through a list\n",
    "\n",
    "Lists can be iterated using `for in` loops"
   ]
  },
  {
   "cell_type": "code",
   "execution_count": 29,
   "metadata": {},
   "outputs": [
    {
     "name": "stdout",
     "output_type": "stream",
     "text": [
      "[1, 3, 5, 7, 9, 11, 13, 15, 17]\n"
     ]
    }
   ],
   "source": [
    "odd_list = []\n",
    "unordered_list = [9, 10, 11, 12, 13, 14, 15, 16, 17]\n",
    "\n",
    "for num in unordered_list:\n",
    "    if not num % 2 == 0:\n",
    "        odd_list.append(num)\n",
    "\n",
    "print(odd_list)\n"
   ]
  },
  {
   "cell_type": "markdown",
   "metadata": {},
   "source": [
    "another way to iterate through a list is using a range iterator"
   ]
  },
  {
   "cell_type": "code",
   "execution_count": null,
   "metadata": {},
   "outputs": [],
   "source": [
    "float_list = [2.5, 16.42, 10.77, 8.3, 34.21]\n",
    "\n",
    "for i in range(0, len(float_list)):  # Iterator traverses to the last index of the list\n",
    "    float_list[i] = float_list[i] * 2"
   ]
  }
 ],
 "metadata": {
  "kernelspec": {
   "display_name": "Python 3",
   "language": "python",
   "name": "python3"
  },
  "language_info": {
   "codemirror_mode": {
    "name": "ipython",
    "version": 3
   },
   "file_extension": ".py",
   "mimetype": "text/x-python",
   "name": "python",
   "nbconvert_exporter": "python",
   "pygments_lexer": "ipython3",
   "version": "3.11.5"
  },
  "orig_nbformat": 4
 },
 "nbformat": 4,
 "nbformat_minor": 2
}
